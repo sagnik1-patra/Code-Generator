{
 "cells": [
  {
   "cell_type": "code",
   "execution_count": 3,
   "id": "af14ee94-8940-4869-a88e-f32b1f826126",
   "metadata": {},
   "outputs": [
    {
     "name": "stderr",
     "output_type": "stream",
     "text": [
      "Xet Storage is enabled for this repo, but the 'hf_xet' package is not installed. Falling back to regular HTTP download. For better performance, install the package with: `pip install huggingface_hub[hf_xet]` or `pip install hf_xet`\n"
     ]
    },
    {
     "data": {
      "application/vnd.jupyter.widget-view+json": {
       "model_id": "1352dd77b91943b2a1db09ba336ebda8",
       "version_major": 2,
       "version_minor": 0
      },
      "text/plain": [
       "model.safetensors:   0%|          | 0.00/988M [00:00<?, ?B/s]"
      ]
     },
     "metadata": {},
     "output_type": "display_data"
    },
    {
     "name": "stderr",
     "output_type": "stream",
     "text": [
      "Error while downloading from https://huggingface.co/Qwen/Qwen2.5-Coder-0.5B-Instruct/resolve/main/model.safetensors: HTTPSConnectionPool(host='cas-bridge.xethub.hf.co', port=443): Read timed out.\n",
      "Trying to resume download...\n"
     ]
    },
    {
     "data": {
      "application/vnd.jupyter.widget-view+json": {
       "model_id": "90fde662e60d4c1c83d05dddaae6993f",
       "version_major": 2,
       "version_minor": 0
      },
      "text/plain": [
       "model.safetensors:  97%|#########6| 954M/988M [00:00<?, ?B/s]"
      ]
     },
     "metadata": {},
     "output_type": "display_data"
    },
    {
     "name": "stderr",
     "output_type": "stream",
     "text": [
      "C:\\Users\\sagni\\AppData\\Local\\Programs\\Python\\Python311\\Lib\\site-packages\\huggingface_hub\\file_download.py:143: UserWarning: `huggingface_hub` cache-system uses symlinks by default to efficiently store duplicated files but your machine does not support them in C:\\Users\\sagni\\.cache\\huggingface\\hub\\models--Qwen--Qwen2.5-Coder-0.5B-Instruct. Caching files will still work but in a degraded version that might require more space on your disk. This warning can be disabled by setting the `HF_HUB_DISABLE_SYMLINKS_WARNING` environment variable. For more details, see https://huggingface.co/docs/huggingface_hub/how-to-cache#limitations.\n",
      "To support symlinks on Windows, you either need to activate Developer Mode or to run Python as an administrator. In order to activate developer mode, see this article: https://docs.microsoft.com/en-us/windows/apps/get-started/enable-your-device-for-development\n",
      "  warnings.warn(message)\n"
     ]
    },
    {
     "data": {
      "application/vnd.jupyter.widget-view+json": {
       "model_id": "13203f2d2e7c482d951dd0cf5255d182",
       "version_major": 2,
       "version_minor": 0
      },
      "text/plain": [
       "generation_config.json:   0%|          | 0.00/243 [00:00<?, ?B/s]"
      ]
     },
     "metadata": {},
     "output_type": "display_data"
    },
    {
     "name": "stdout",
     "output_type": "stream",
     "text": [
      "\n",
      "===== GENERATED CODE =====\n",
      "\n",
      "{\n",
      "  \"name\": \"jupyter\",\n",
      "  \"display_name\": \"Jupyter Notebook\",\n",
      "  \"version\": \"4.8.1\",\n",
      "  \"language\": \"python\",\n",
      "  \"envs\": [\n",
      "    {\n",
      "      \"name\": \"base\",\n",
      "      \"prefix\": \"/usr/local/bin/jupyter\"\n",
      "    }\n",
      "  ],\n",
      "  \"kernelspec\": {\n",
      "    \"display_name\": \"Python 3\",\n",
      "    \"language\": \"python\",\n",
      "    \"py_version\": \"3.8\",\n",
      "    \"path\": \"/usr/local/bin/jupyter\"\n",
      "  },\n",
      "  \"language_info\": {\n",
      "    \"name\": \"python\",\n",
      "    \"version\": \"3.8\",\n",
      "    \"file_extension\": \".py\",\n",
      "    \"mimetype\": \"text/x-python\",\n",
      "    \"nbformat\": 4,\n",
      "    \"nbformat_minor\": 1\n",
      "  }\n",
      "}\n",
      "\n",
      "==========================\n",
      "\n",
      "[Saved] generated_code.txt\n"
     ]
    }
   ],
   "source": [
    "import os, re, sys, torch\n",
    "from typing import Optional, Tuple\n",
    "from transformers import AutoTokenizer, AutoModelForCausalLM\n",
    "\n",
    "# ---------------- USER KNOBS ----------------\n",
    "BASE_MODEL = os.environ.get(\"BASE_MODEL\", \"Qwen/Qwen2.5-Coder-0.5B-Instruct\")\n",
    "MAX_NEW_TOKENS = int(os.environ.get(\"MAX_NEW_TOKENS\", \"512\"))\n",
    "TEMPERATURE = float(os.environ.get(\"TEMPERATURE\", \"0.2\"))\n",
    "TOP_P = float(os.environ.get(\"TOP_P\", \"0.95\"))\n",
    "# -------------------------------------------\n",
    "\n",
    "def has_accelerate() -> bool:\n",
    "    try:\n",
    "        import accelerate  # noqa: F401\n",
    "        return True\n",
    "    except Exception:\n",
    "        return False\n",
    "\n",
    "def try_bitsandbytes_cfg():\n",
    "    \"\"\"Return a BitsAndBytesConfig if available and CUDA exists; else None.\"\"\"\n",
    "    if not torch.cuda.is_available():\n",
    "        return None\n",
    "    try:\n",
    "        from transformers import BitsAndBytesConfig\n",
    "        return BitsAndBytesConfig(\n",
    "            load_in_4bit=True,\n",
    "            bnb_4bit_use_double_quant=True,\n",
    "            bnb_4bit_quant_type=\"nf4\",\n",
    "            bnb_4bit_compute_dtype=torch.bfloat16,\n",
    "        )\n",
    "    except Exception:\n",
    "        return None\n",
    "\n",
    "def build_prompt(tokenizer, question: str) -> str:\n",
    "    user = (\n",
    "        \"You are a helpful coding assistant. \"\n",
    "        \"Write correct, secure, and concise code for the following task.\\n\\n\"\n",
    "        f\"Task:\\n{question}\\n\\n\"\n",
    "        \"Return ONLY code inside a triple-backtick block.\"\n",
    "    )\n",
    "    try:\n",
    "        return tokenizer.apply_chat_template(\n",
    "            [{\"role\": \"user\", \"content\": user}],\n",
    "            tokenize=False,\n",
    "            add_generation_prompt=True\n",
    "        )\n",
    "    except Exception:\n",
    "        return f\"### Instruction:\\n{user}\\n\\n### Response:\\n\"\n",
    "\n",
    "CODE_BLOCK_RE = re.compile(r\"```([a-zA-Z0-9_+-]*)\\s*\\n(.*?)```\", re.DOTALL)\n",
    "\n",
    "def extract_code(text: str) -> Tuple[Optional[str], Optional[str]]:\n",
    "    m = CODE_BLOCK_RE.search(text)\n",
    "    if not m:\n",
    "        return None, None\n",
    "    lang = (m.group(1) or \"\").strip() or None\n",
    "    code = m.group(2).strip(\"\\n\\r \")\n",
    "    return lang, code\n",
    "\n",
    "def suggest_ext(lang: Optional[str]) -> str:\n",
    "    mapping = {\n",
    "        \"py\":\"py\",\"python\":\"py\",\n",
    "        \"js\":\"js\",\"javascript\":\"js\",\"ts\":\"ts\",\"typescript\":\"ts\",\n",
    "        \"java\":\"java\",\"cpp\":\"cpp\",\"c\":\"c\",\"c++\":\"cpp\",\"cs\":\"cs\",\"csharp\":\"cs\",\n",
    "        \"go\":\"go\",\"rs\":\"rs\",\"rust\":\"rs\",\"php\":\"php\",\"rb\":\"rb\",\"ruby\":\"rb\",\n",
    "        \"sh\":\"sh\",\"bash\":\"sh\",\"ps1\":\"ps1\",\"powershell\":\"ps1\",\n",
    "        \"kt\":\"kt\",\"kotlin\":\"kt\",\"swift\":\"swift\",\"sql\":\"sql\",\"html\":\"html\",\"css\":\"css\"\n",
    "    }\n",
    "    return mapping.get((lang or \"\").lower(), \"txt\")\n",
    "\n",
    "def load_model_and_tokenizer():\n",
    "    qcfg = try_bitsandbytes_cfg()\n",
    "    tokenizer = AutoTokenizer.from_pretrained(BASE_MODEL, use_fast=True, trust_remote_code=True)\n",
    "    if tokenizer.pad_token is None:\n",
    "        tokenizer.pad_token = tokenizer.eos_token\n",
    "\n",
    "    kwargs = {\n",
    "        \"torch_dtype\": torch.bfloat16 if torch.cuda.is_available() else torch.float32,\n",
    "        \"trust_remote_code\": True,\n",
    "    }\n",
    "    if qcfg is not None:\n",
    "        kwargs[\"quantization_config\"] = qcfg\n",
    "\n",
    "    # Only use device_map=\"auto\" if accelerate is available\n",
    "    if has_accelerate():\n",
    "        kwargs[\"device_map\"] = \"auto\"\n",
    "\n",
    "    model = AutoModelForCausalLM.from_pretrained(BASE_MODEL, **kwargs)\n",
    "\n",
    "    # If we didn't use device_map, move to a single device manually\n",
    "    if \"device_map\" not in kwargs:\n",
    "        device = torch.device(\"cuda\" if torch.cuda.is_available() else \"cpu\")\n",
    "        model.to(device)\n",
    "\n",
    "    model.eval()\n",
    "    return tokenizer, model\n",
    "\n",
    "def generate_code(question: str, save_to_file: bool = True) -> str:\n",
    "    tokenizer, model = load_model_and_tokenizer()\n",
    "    prompt = build_prompt(tokenizer, question)\n",
    "    inputs = tokenizer([prompt], return_tensors=\"pt\").to(next(model.parameters()).device)\n",
    "\n",
    "    with torch.no_grad():\n",
    "        out = model.generate(\n",
    "            **inputs,\n",
    "            max_new_tokens=MAX_NEW_TOKENS,\n",
    "            do_sample=True,\n",
    "            temperature=TEMPERATURE,\n",
    "            top_p=TOP_P,\n",
    "            pad_token_id=tokenizer.eos_token_id,\n",
    "        )\n",
    "\n",
    "    full = tokenizer.decode(out[0], skip_special_tokens=True)\n",
    "    if full.startswith(prompt):\n",
    "        full = full[len(prompt):]\n",
    "\n",
    "    lang, code = extract_code(full)\n",
    "    if code is None:\n",
    "        code, lang = full.strip(), None\n",
    "\n",
    "    print(\"\\n===== GENERATED CODE =====\\n\")\n",
    "    print(code)\n",
    "    print(\"\\n==========================\\n\")\n",
    "\n",
    "    if save_to_file:\n",
    "        ext = suggest_ext(lang)\n",
    "        fname = f\"generated_code.{ext}\"\n",
    "        with open(fname, \"w\", encoding=\"utf-8\") as f:\n",
    "            f.write(code)\n",
    "        print(f\"[Saved] {fname}\")\n",
    "\n",
    "    return code\n",
    "\n",
    "def main():\n",
    "    if len(sys.argv) > 1:\n",
    "        question = \" \".join(sys.argv[1:]).strip()\n",
    "    else:\n",
    "        question = input(\"Enter your coding question/task:\\n> \").strip()\n",
    "    if not question:\n",
    "        print(\"No question provided.\")\n",
    "        sys.exit(1)\n",
    "    generate_code(question, save_to_file=True)\n",
    "\n",
    "if __name__ == \"__main__\":\n",
    "    main()\n"
   ]
  },
  {
   "cell_type": "code",
   "execution_count": null,
   "id": "37936936-5a42-48b7-954a-f2cf6cc01f75",
   "metadata": {},
   "outputs": [],
   "source": []
  }
 ],
 "metadata": {
  "kernelspec": {
   "display_name": "Python 3.11 (moviepy)",
   "language": "python",
   "name": "py311"
  },
  "language_info": {
   "codemirror_mode": {
    "name": "ipython",
    "version": 3
   },
   "file_extension": ".py",
   "mimetype": "text/x-python",
   "name": "python",
   "nbconvert_exporter": "python",
   "pygments_lexer": "ipython3",
   "version": "3.11.9"
  }
 },
 "nbformat": 4,
 "nbformat_minor": 5
}
